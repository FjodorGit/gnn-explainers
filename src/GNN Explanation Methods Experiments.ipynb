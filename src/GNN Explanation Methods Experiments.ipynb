{
 "cells": [
  {
   "cell_type": "code",
   "execution_count": 21,
   "id": "1f830eb3",
   "metadata": {},
   "outputs": [],
   "source": [
    "import matplotlib.pyplot as plt\n",
    "from random import randint\n",
    "\n",
    "from torch_geometric.datasets import Entities, Planetoid\n",
    "from torch_geometric.explain import Explainer, GNNExplainer, PGExplainer, DummyExplainer\n",
    "\n",
    "import networkx as nx\n",
    "import numpy as np\n",
    "\n",
    "from torch_geometric.utils import to_networkx\n",
    "\n",
    "import torch\n",
    "import torch.nn.functional as F\n",
    "\n",
    "from torch_geometric.loader import DataLoader\n",
    "from torch_geometric.nn import GCNConv\n",
    "from torch_geometric.explain.metric import fidelity, unfaithfulness"
   ]
  },
  {
   "cell_type": "markdown",
   "id": "39f97825",
   "metadata": {},
   "source": [
    "**Data**"
   ]
  },
  {
   "cell_type": "code",
   "execution_count": 2,
   "id": "b817e8c2",
   "metadata": {},
   "outputs": [],
   "source": [
    "dataset = Planetoid(\".\", \"Cora\")\n",
    "data = dataset[0]"
   ]
  },
  {
   "cell_type": "markdown",
   "id": "515a119e",
   "metadata": {},
   "source": [
    "**Model**"
   ]
  },
  {
   "cell_type": "code",
   "execution_count": 3,
   "id": "b22a613d",
   "metadata": {},
   "outputs": [],
   "source": [
    "class GCN(torch.nn.Module):\n",
    "    def __init__(self):\n",
    "        super().__init__()\n",
    "        self.conv1 = GCNConv(dataset.num_features, 16)\n",
    "        self.conv2 = GCNConv(16, 16)\n",
    "        self.conv3 = GCNConv(16, dataset.num_classes)\n",
    "\n",
    "    def forward(self, x, edge_index):\n",
    "        x = F.relu(self.conv1(x, edge_index))\n",
    "        x = F.dropout(x, training=self.training)\n",
    "        x = F.relu(self.conv2(x, edge_index))\n",
    "        x = self.conv3(x, edge_index)\n",
    "        return F.log_softmax(x, dim=1)\n",
    "\n",
    "\n",
    "model = GCN()"
   ]
  },
  {
   "cell_type": "markdown",
   "id": "4e7fe333",
   "metadata": {},
   "source": [
    "**Training**"
   ]
  },
  {
   "cell_type": "code",
   "execution_count": 4,
   "id": "f6f40b7d",
   "metadata": {},
   "outputs": [],
   "source": [
    "optimizer = torch.optim.Adam(model.parameters(), lr=0.01, weight_decay=5e-4)\n",
    "\n",
    "for epoch in range(1, 201):\n",
    "    model.train()\n",
    "    optimizer.zero_grad()\n",
    "    out = model(data.x, data.edge_index)\n",
    "    loss = F.nll_loss(out[data.train_mask], data.y[data.train_mask])\n",
    "    loss.backward()\n",
    "    optimizer.step()"
   ]
  },
  {
   "cell_type": "markdown",
   "id": "b8031f5f",
   "metadata": {},
   "source": [
    "**Eplainers**"
   ]
  },
  {
   "cell_type": "code",
   "execution_count": 14,
   "id": "a532cbe1",
   "metadata": {},
   "outputs": [],
   "source": [
    "gnnexplainer = Explainer(\n",
    "    model=model,\n",
    "    algorithm=GNNExplainer(epochs=200),\n",
    "    explanation_type='phenomenon',\n",
    "    node_mask_type='attributes',\n",
    "    edge_mask_type='object',\n",
    "    model_config=dict(\n",
    "        mode='multiclass_classification',\n",
    "        task_level='node',\n",
    "        return_type='log_probs',\n",
    "    ),\n",
    ")\n",
    "\n",
    "\n",
    "pgexplainer = Explainer(\n",
    "    model=model,\n",
    "    algorithm=PGExplainer(epochs=200),\n",
    "    explanation_type='phenomenon',\n",
    "    node_mask_type=None,\n",
    "    edge_mask_type='object',\n",
    "    model_config=dict(\n",
    "        mode='multiclass_classification',\n",
    "        task_level='node',\n",
    "        return_type='log_probs',\n",
    "    ),\n",
    ")\n",
    "\n",
    "\n",
    "dummyexplainer = Explainer(\n",
    "    model=model,\n",
    "    algorithm=DummyExplainer(),\n",
    "    explanation_type='phenomenon',\n",
    "    node_mask_type='attributes',\n",
    "    edge_mask_type='object',\n",
    "    model_config=dict(\n",
    "        mode='multiclass_classification',\n",
    "        task_level='node',\n",
    "        return_type='log_probs',\n",
    "    ),\n",
    ")"
   ]
  },
  {
   "cell_type": "markdown",
   "id": "10d8e18a",
   "metadata": {},
   "source": [
    "**Training Explainers**"
   ]
  },
  {
   "cell_type": "code",
   "execution_count": null,
   "id": "564cad25",
   "metadata": {},
   "outputs": [],
   "source": [
    "#train PGExplainer\n",
    "for epoch in range(200):\n",
    "    num_nodes = randint(0,1000)\n",
    "    for node_index in range(num_nodes, num_nodes+200):  \n",
    "        loss = pgexplainer.algorithm.train(epoch, model, data.x, data.edge_index, target=data.y, index=node_index)\n",
    "    print(f\"Loss {loss} in epoch {epoch}\")"
   ]
  },
  {
   "cell_type": "markdown",
   "id": "e8686bdb",
   "metadata": {},
   "source": [
    "**Probing Explainers**"
   ]
  },
  {
   "cell_type": "code",
   "execution_count": 26,
   "id": "9da41705",
   "metadata": {},
   "outputs": [
    {
     "name": "stdout",
     "output_type": "stream",
     "text": [
      "GNNExplainer unfaithfulness: 0.015541791915893555\n",
      "PGExplainer unfaithfulness: 0.6246781349182129\n",
      "DummyExplainer unfaithfulness: 0.23606103658676147 \n",
      "\n",
      "\n",
      "GNNExplainer unfaithfulness: 0.013374388217926025\n",
      "PGExplainer unfaithfulness: 0.817513570189476\n",
      "DummyExplainer unfaithfulness: 0.4286598563194275 \n",
      "\n",
      "\n",
      "GNNExplainer unfaithfulness: 0.028753459453582764\n",
      "PGExplainer unfaithfulness: 0.7250759303569794\n",
      "DummyExplainer unfaithfulness: 0.462482750415802 \n",
      "\n",
      "\n",
      "GNNExplainer unfaithfulness: 0.037793755531311035\n",
      "PGExplainer unfaithfulness: 0.34917718172073364\n",
      "DummyExplainer unfaithfulness: 0.2654034495353699 \n",
      "\n",
      "\n",
      "GNNExplainer unfaithfulness: 0.02279454469680786\n",
      "PGExplainer unfaithfulness: 0.5799050331115723\n",
      "DummyExplainer unfaithfulness: 0.4689701199531555 \n",
      "\n",
      "\n",
      "GNNExplainer unfaithfulness: 0.02457141876220703\n",
      "PGExplainer unfaithfulness: 0.7456392645835876\n",
      "DummyExplainer unfaithfulness: 0.23639929294586182 \n",
      "\n",
      "\n",
      "GNNExplainer unfaithfulness: 0.04914790391921997\n",
      "PGExplainer unfaithfulness: 0.5024809241294861\n",
      "DummyExplainer unfaithfulness: 0.43236976861953735 \n",
      "\n",
      "\n",
      "GNNExplainer unfaithfulness: 0.0602421760559082\n",
      "PGExplainer unfaithfulness: 0.19183766841888428\n",
      "DummyExplainer unfaithfulness: 0.03899586200714111 \n",
      "\n",
      "\n",
      "GNNExplainer unfaithfulness: 0.021750032901763916\n",
      "PGExplainer unfaithfulness: 0.6434062421321869\n",
      "DummyExplainer unfaithfulness: 0.49221378564834595 \n",
      "\n",
      "\n",
      "GNNExplainer unfaithfulness: 0.027570009231567383\n",
      "PGExplainer unfaithfulness: 0.6257803738117218\n",
      "DummyExplainer unfaithfulness: 0.4795114994049072 \n",
      "\n",
      "\n",
      "GNNExplainer unfaithfulness: 0.012524604797363281\n",
      "PGExplainer unfaithfulness: 0.5893255770206451\n",
      "DummyExplainer unfaithfulness: 0.14761489629745483 \n",
      "\n",
      "\n",
      "GNNExplainer unfaithfulness: 0.019753217697143555\n",
      "PGExplainer unfaithfulness: 0.33387982845306396\n",
      "DummyExplainer unfaithfulness: 0.340678870677948 \n",
      "\n",
      "\n",
      "GNNExplainer unfaithfulness: 0.050779759883880615\n",
      "PGExplainer unfaithfulness: 0.5939725339412689\n",
      "DummyExplainer unfaithfulness: 0.42770516872406006 \n",
      "\n",
      "\n",
      "GNNExplainer unfaithfulness: 0.05053901672363281\n",
      "PGExplainer unfaithfulness: 0.3381527066230774\n",
      "DummyExplainer unfaithfulness: 0.22919493913650513 \n",
      "\n",
      "\n",
      "GNNExplainer unfaithfulness: 0.034873366355895996\n",
      "PGExplainer unfaithfulness: 0.5796172618865967\n",
      "DummyExplainer unfaithfulness: 0.43477022647857666 \n",
      "\n",
      "\n",
      "GNNExplainer unfaithfulness: 0.029452741146087646\n",
      "PGExplainer unfaithfulness: 0.6550358235836029\n",
      "DummyExplainer unfaithfulness: 0.3766304850578308 \n",
      "\n",
      "\n",
      "GNNExplainer unfaithfulness: 0.0354883074760437\n",
      "PGExplainer unfaithfulness: 0.6205958425998688\n",
      "DummyExplainer unfaithfulness: 0.2904975414276123 \n",
      "\n",
      "\n",
      "GNNExplainer unfaithfulness: 0.02328169345855713\n",
      "PGExplainer unfaithfulness: 0.677620530128479\n",
      "DummyExplainer unfaithfulness: 0.30395299196243286 \n",
      "\n",
      "\n",
      "GNNExplainer unfaithfulness: 0.06204146146774292\n",
      "PGExplainer unfaithfulness: 0.7117303311824799\n",
      "DummyExplainer unfaithfulness: 0.6527146100997925 \n",
      "\n",
      "\n",
      "GNNExplainer unfaithfulness: 0.009680688381195068\n",
      "PGExplainer unfaithfulness: 0.32719361782073975\n",
      "DummyExplainer unfaithfulness: 0.33113569021224976 \n",
      "\n",
      "\n"
     ]
    }
   ],
   "source": [
    "gnnexplainer_Unfaithfulness = []\n",
    "pgexplainer_Unfaithfulness = []\n",
    "dummyepxplainer_Unfaithfulness = []\n",
    "#Calculate unfaithfulness for first n nodes\n",
    "for node_index in range(0,20):    \n",
    "    gnnexplanation = gnnexplainer(data.x, data.edge_index, index=node_index, target=data.y)\n",
    "    gnn_unf = unfaithfulness(gnnexplainer, gnnexplanation)\n",
    "    \n",
    "    pgexplanation = pgexplainer(data.x, data.edge_index, index=node_index, target=data.y)\n",
    "    pg_unf = unfaithfulness(pgexplainer, pgexplanation)\n",
    "    \n",
    "    dummyexplanation = dummyexplainer(data.x, data.edge_index, index=node_index, target=data.y)\n",
    "    dummy_unf = unfaithfulness(dummyexplainer, dummyexplanation)\n",
    "    \n",
    "    gnnexplainer_Unfaithfulness.append(gnn_unf)\n",
    "    pgexplainer_Unfaithfulness.append(pg_unf)\n",
    "    dummyepxplainer_Unfaithfulness.append(dummy_unf)\n",
    "    \n",
    "    print(f\"GNNExplainer unfaithfulness: {gnn_unf}\")\n",
    "    print(f\"PGExplainer unfaithfulness: {pg_unf}\")\n",
    "    print(f\"DummyExplainer unfaithfulness: {dummy_unf} \\n\\n\")"
   ]
  },
  {
   "cell_type": "code",
   "execution_count": 27,
   "id": "79fd2244",
   "metadata": {},
   "outputs": [
    {
     "data": {
      "text/plain": [
       "Text(0.5, 1.0, 'Unfaitfulness on Dataset Cora')"
      ]
     },
     "execution_count": 27,
     "metadata": {},
     "output_type": "execute_result"
    },
    {
     "data": {
      "image/png": "[encoded data removed]",
      "text/plain": [
       "<Figure size 640x480 with 1 Axes>"
      ]
     },
     "metadata": {},
     "output_type": "display_data"
    }
   ],
   "source": [
    "plt.boxplot([gnnexplainer_Unfaithfulness, pgexplainer_Unfaithfulness , dummyepxplainer_Unfaithfulness],labels=[\"GNNExplainer\",\"PGExplainer\",\"DummyExplainer\"])\n",
    "plt.title(f\"Unfaitfulness on Dataset {dataset.name}\")"
   ]
  },
  {
   "cell_type": "code",
   "execution_count": null,
   "id": "3c769152",
   "metadata": {},
   "outputs": [],
   "source": []
  }
 ],
 "metadata": {
  "kernelspec": {
   "display_name": "Python 3 (ipykernel)",
   "language": "python",
   "name": "python3"
  },
  "language_info": {
   "codemirror_mode": {
    "name": "ipython",
    "version": 3
   },
   "file_extension": ".py",
   "mimetype": "text/x-python",
   "name": "python",
   "nbconvert_exporter": "python",
   "pygments_lexer": "ipython3",
   "version": "3.10.8"
  }
 },
 "nbformat": 4,
 "nbformat_minor": 5
}
